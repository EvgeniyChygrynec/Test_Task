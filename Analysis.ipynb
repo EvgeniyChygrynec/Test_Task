{
 "cells": [
  {
   "cell_type": "markdown",
   "id": "d36fc06c",
   "metadata": {},
   "source": [
    "<h2><font style=\"font-weight:lighter\", color='960018'>Вступ</font></h2>"
   ]
  },
  {
   "cell_type": "markdown",
   "id": "ab50c929",
   "metadata": {},
   "source": [
    "В исходных данных (Data.csv) приведены факты транзакций за период с 18.01 по 14.02.2016  по 10 магазинам сети со следующими полями:\n",
    "    <li>Магазин\n",
    "    <li>Код чека\n",
    "    <li>Дата\n",
    "    <li>Время<br><br>\n",
    "Также дополнительно прилагается файл (Stores.csv) с характеристиками магазина:<br>\n",
    "     <li>Город\n",
    "     <li>График работы<br><br>\n",
    "Требуется:<br>\n",
    "        <li>Для отдела продаж построить план (прогноз) количества транзакций для каждого магазина. Задекларировать точность прогнозирования модели (MAPE).\n",
    "        <li>На основании прогноза продаж необходимо для отдела персонала  построить план-график выходов сотрудников в соответствии с ранее заданами правилами.\n"
   ]
  },
  {
   "cell_type": "markdown",
   "id": "dc1847b0",
   "metadata": {},
   "source": [
    "<h2><font style=\"font-weight:lighter\", color='960018'>Импорт библиотек и данных</font></h2>"
   ]
  },
  {
   "cell_type": "code",
   "execution_count": 1,
   "id": "69338445",
   "metadata": {},
   "outputs": [],
   "source": [
    "import numpy as np\n",
    "import pandas as pd\n",
    "\n",
    "import matplotlib.pyplot as plt\n",
    "%matplotlib inline\n",
    "import seaborn as sns\n",
    "from datetime import datetime\n",
    "\n",
    "from sklearn.model_selection import train_test_split, GridSearchCV\n",
    "from sklearn.metrics import mean_absolute_error, mean_squared_error, mean_absolute_percentage_error\n",
    "\n",
    "from sklearn.preprocessing import StandardScaler, Normalizer\n",
    "from sklearn.pipeline import make_pipeline\n",
    "from prophet import Prophet\n",
    "\n",
    "from sklearn.linear_model import LinearRegression, Ridge, Lasso\n",
    "from sklearn.ensemble import GradientBoostingRegressor\n",
    "from sklearn.ensemble import ExtraTreesRegressor, RandomForestRegressor\n",
    "from sklearn.tree import DecisionTreeRegressor\n",
    "import warnings\n",
    "warnings.filterwarnings(\"ignore\")"
   ]
  },
  {
   "cell_type": "code",
   "execution_count": 2,
   "id": "f0cf6d2c",
   "metadata": {},
   "outputs": [],
   "source": [
    "df_data = pd.read_csv('Data.csv', sep=',', encoding='utf-8')\n",
    "df_stores = pd.read_csv('Stores.csv', sep=',', encoding='utf-8')"
   ]
  },
  {
   "cell_type": "code",
   "execution_count": 3,
   "id": "6c021f24",
   "metadata": {},
   "outputs": [
    {
     "data": {
      "text/html": [
       "<div>\n",
       "<style scoped>\n",
       "    .dataframe tbody tr th:only-of-type {\n",
       "        vertical-align: middle;\n",
       "    }\n",
       "\n",
       "    .dataframe tbody tr th {\n",
       "        vertical-align: top;\n",
       "    }\n",
       "\n",
       "    .dataframe thead th {\n",
       "        text-align: right;\n",
       "    }\n",
       "</style>\n",
       "<table border=\"1\" class=\"dataframe\">\n",
       "  <thead>\n",
       "    <tr style=\"text-align: right;\">\n",
       "      <th></th>\n",
       "      <th>Idчека</th>\n",
       "      <th>Дата</th>\n",
       "      <th>Время</th>\n",
       "      <th>Магазин</th>\n",
       "    </tr>\n",
       "  </thead>\n",
       "  <tbody>\n",
       "    <tr>\n",
       "      <th>0</th>\n",
       "      <td>8C5EFA0656C5A0A011E5BD6650B1D05A</td>\n",
       "      <td>18.01.2016</td>\n",
       "      <td>7:20:33</td>\n",
       "      <td>Магазин 4</td>\n",
       "    </tr>\n",
       "    <tr>\n",
       "      <th>1</th>\n",
       "      <td>8C5EFA0656C5A0A011E5BD6650B1D05C</td>\n",
       "      <td>18.01.2016</td>\n",
       "      <td>8:26:38</td>\n",
       "      <td>Магазин 4</td>\n",
       "    </tr>\n",
       "    <tr>\n",
       "      <th>2</th>\n",
       "      <td>8C5EFA0656C5A0A011E5BD6650B1D05D</td>\n",
       "      <td>18.01.2016</td>\n",
       "      <td>9:01:32</td>\n",
       "      <td>Магазин 4</td>\n",
       "    </tr>\n",
       "    <tr>\n",
       "      <th>3</th>\n",
       "      <td>8C5EFA0656C5A0A011E5BD6650B1D05E</td>\n",
       "      <td>18.01.2016</td>\n",
       "      <td>9:39:09</td>\n",
       "      <td>Магазин 4</td>\n",
       "    </tr>\n",
       "    <tr>\n",
       "      <th>4</th>\n",
       "      <td>8C5EFA0656C5A0A011E5BD6650B1D05F</td>\n",
       "      <td>18.01.2016</td>\n",
       "      <td>9:42:12</td>\n",
       "      <td>Магазин 4</td>\n",
       "    </tr>\n",
       "  </tbody>\n",
       "</table>\n",
       "</div>"
      ],
      "text/plain": [
       "                             Idчека        Дата    Время    Магазин\n",
       "0  8C5EFA0656C5A0A011E5BD6650B1D05A  18.01.2016  7:20:33  Магазин 4\n",
       "1  8C5EFA0656C5A0A011E5BD6650B1D05C  18.01.2016  8:26:38  Магазин 4\n",
       "2  8C5EFA0656C5A0A011E5BD6650B1D05D  18.01.2016  9:01:32  Магазин 4\n",
       "3  8C5EFA0656C5A0A011E5BD6650B1D05E  18.01.2016  9:39:09  Магазин 4\n",
       "4  8C5EFA0656C5A0A011E5BD6650B1D05F  18.01.2016  9:42:12  Магазин 4"
      ]
     },
     "execution_count": 3,
     "metadata": {},
     "output_type": "execute_result"
    }
   ],
   "source": [
    "df_data.head()"
   ]
  },
  {
   "cell_type": "code",
   "execution_count": 4,
   "id": "9a65b5e8",
   "metadata": {},
   "outputs": [
    {
     "data": {
      "text/html": [
       "<div>\n",
       "<style scoped>\n",
       "    .dataframe tbody tr th:only-of-type {\n",
       "        vertical-align: middle;\n",
       "    }\n",
       "\n",
       "    .dataframe tbody tr th {\n",
       "        vertical-align: top;\n",
       "    }\n",
       "\n",
       "    .dataframe thead th {\n",
       "        text-align: right;\n",
       "    }\n",
       "</style>\n",
       "<table border=\"1\" class=\"dataframe\">\n",
       "  <thead>\n",
       "    <tr style=\"text-align: right;\">\n",
       "      <th></th>\n",
       "      <th>Магазин</th>\n",
       "      <th>Город</th>\n",
       "      <th>РежимРаботы</th>\n",
       "    </tr>\n",
       "  </thead>\n",
       "  <tbody>\n",
       "    <tr>\n",
       "      <th>0</th>\n",
       "      <td>Магазин 1</td>\n",
       "      <td>Днепропетровск</td>\n",
       "      <td>Круглосуточный</td>\n",
       "    </tr>\n",
       "    <tr>\n",
       "      <th>1</th>\n",
       "      <td>Магазин 2</td>\n",
       "      <td>Днепропетровск</td>\n",
       "      <td>Круглосуточный</td>\n",
       "    </tr>\n",
       "    <tr>\n",
       "      <th>2</th>\n",
       "      <td>Магазин 3</td>\n",
       "      <td>Днепродзержинск</td>\n",
       "      <td>Пн-Чт 10-22; Пт 10-23; Сб 09-23; Вс 09-22</td>\n",
       "    </tr>\n",
       "    <tr>\n",
       "      <th>3</th>\n",
       "      <td>Магазин 4</td>\n",
       "      <td>Днепропетровск</td>\n",
       "      <td>Круглосуточный</td>\n",
       "    </tr>\n",
       "    <tr>\n",
       "      <th>4</th>\n",
       "      <td>Магазин 5</td>\n",
       "      <td>Киев</td>\n",
       "      <td>Пн-Чт 10-22; Пт 10-23; Сб 09-23; Вс 09-22</td>\n",
       "    </tr>\n",
       "  </tbody>\n",
       "</table>\n",
       "</div>"
      ],
      "text/plain": [
       "     Магазин            Город                                РежимРаботы\n",
       "0  Магазин 1   Днепропетровск                             Круглосуточный\n",
       "1  Магазин 2   Днепропетровск                             Круглосуточный\n",
       "2  Магазин 3  Днепродзержинск  Пн-Чт 10-22; Пт 10-23; Сб 09-23; Вс 09-22\n",
       "3  Магазин 4   Днепропетровск                             Круглосуточный\n",
       "4  Магазин 5             Киев  Пн-Чт 10-22; Пт 10-23; Сб 09-23; Вс 09-22"
      ]
     },
     "execution_count": 4,
     "metadata": {},
     "output_type": "execute_result"
    }
   ],
   "source": [
    "df_stores.head()"
   ]
  },
  {
   "cell_type": "markdown",
   "id": "852f5063",
   "metadata": {},
   "source": [
    "<b>Для удобного анализа данных соединим 2 таблицы в одну по полю \"Магазин\"</b>"
   ]
  },
  {
   "cell_type": "code",
   "execution_count": 5,
   "id": "6f1f9793",
   "metadata": {},
   "outputs": [],
   "source": [
    "df = pd.merge(df_data, df_stores)"
   ]
  },
  {
   "cell_type": "markdown",
   "id": "b5711bd0",
   "metadata": {},
   "source": [
    "<h2><font style=\"font-weight:lighter\", color='960018'>Разведочный анализ данных</font></h2>"
   ]
  },
  {
   "cell_type": "code",
   "execution_count": 6,
   "id": "8f427eae",
   "metadata": {},
   "outputs": [
    {
     "data": {
      "text/html": [
       "<div>\n",
       "<style scoped>\n",
       "    .dataframe tbody tr th:only-of-type {\n",
       "        vertical-align: middle;\n",
       "    }\n",
       "\n",
       "    .dataframe tbody tr th {\n",
       "        vertical-align: top;\n",
       "    }\n",
       "\n",
       "    .dataframe thead th {\n",
       "        text-align: right;\n",
       "    }\n",
       "</style>\n",
       "<table border=\"1\" class=\"dataframe\">\n",
       "  <thead>\n",
       "    <tr style=\"text-align: right;\">\n",
       "      <th></th>\n",
       "      <th>Idчека</th>\n",
       "      <th>Дата</th>\n",
       "      <th>Время</th>\n",
       "      <th>Магазин</th>\n",
       "      <th>Город</th>\n",
       "      <th>РежимРаботы</th>\n",
       "    </tr>\n",
       "  </thead>\n",
       "  <tbody>\n",
       "    <tr>\n",
       "      <th>0</th>\n",
       "      <td>8C5EFA0656C5A0A011E5BD6650B1D05A</td>\n",
       "      <td>18.01.2016</td>\n",
       "      <td>7:20:33</td>\n",
       "      <td>Магазин 4</td>\n",
       "      <td>Днепропетровск</td>\n",
       "      <td>Круглосуточный</td>\n",
       "    </tr>\n",
       "    <tr>\n",
       "      <th>1</th>\n",
       "      <td>8C5EFA0656C5A0A011E5BD6650B1D05C</td>\n",
       "      <td>18.01.2016</td>\n",
       "      <td>8:26:38</td>\n",
       "      <td>Магазин 4</td>\n",
       "      <td>Днепропетровск</td>\n",
       "      <td>Круглосуточный</td>\n",
       "    </tr>\n",
       "    <tr>\n",
       "      <th>2</th>\n",
       "      <td>8C5EFA0656C5A0A011E5BD6650B1D05D</td>\n",
       "      <td>18.01.2016</td>\n",
       "      <td>9:01:32</td>\n",
       "      <td>Магазин 4</td>\n",
       "      <td>Днепропетровск</td>\n",
       "      <td>Круглосуточный</td>\n",
       "    </tr>\n",
       "    <tr>\n",
       "      <th>3</th>\n",
       "      <td>8C5EFA0656C5A0A011E5BD6650B1D05E</td>\n",
       "      <td>18.01.2016</td>\n",
       "      <td>9:39:09</td>\n",
       "      <td>Магазин 4</td>\n",
       "      <td>Днепропетровск</td>\n",
       "      <td>Круглосуточный</td>\n",
       "    </tr>\n",
       "    <tr>\n",
       "      <th>4</th>\n",
       "      <td>8C5EFA0656C5A0A011E5BD6650B1D05F</td>\n",
       "      <td>18.01.2016</td>\n",
       "      <td>9:42:12</td>\n",
       "      <td>Магазин 4</td>\n",
       "      <td>Днепропетровск</td>\n",
       "      <td>Круглосуточный</td>\n",
       "    </tr>\n",
       "  </tbody>\n",
       "</table>\n",
       "</div>"
      ],
      "text/plain": [
       "                             Idчека        Дата    Время    Магазин  \\\n",
       "0  8C5EFA0656C5A0A011E5BD6650B1D05A  18.01.2016  7:20:33  Магазин 4   \n",
       "1  8C5EFA0656C5A0A011E5BD6650B1D05C  18.01.2016  8:26:38  Магазин 4   \n",
       "2  8C5EFA0656C5A0A011E5BD6650B1D05D  18.01.2016  9:01:32  Магазин 4   \n",
       "3  8C5EFA0656C5A0A011E5BD6650B1D05E  18.01.2016  9:39:09  Магазин 4   \n",
       "4  8C5EFA0656C5A0A011E5BD6650B1D05F  18.01.2016  9:42:12  Магазин 4   \n",
       "\n",
       "            Город     РежимРаботы  \n",
       "0  Днепропетровск  Круглосуточный  \n",
       "1  Днепропетровск  Круглосуточный  \n",
       "2  Днепропетровск  Круглосуточный  \n",
       "3  Днепропетровск  Круглосуточный  \n",
       "4  Днепропетровск  Круглосуточный  "
      ]
     },
     "execution_count": 6,
     "metadata": {},
     "output_type": "execute_result"
    }
   ],
   "source": [
    "df.head()"
   ]
  },
  {
   "cell_type": "markdown",
   "id": "c399563d",
   "metadata": {},
   "source": [
    "<b>Сравним размеры всех таблиц, чтобы убедиться, что данные не были потеряны</b>"
   ]
  },
  {
   "cell_type": "code",
   "execution_count": 7,
   "id": "b165bfe9",
   "metadata": {},
   "outputs": [
    {
     "name": "stdout",
     "output_type": "stream",
     "text": [
      "Shape of df_data -> (45264, 4)\n",
      "Shape of df_stores -> (10, 3)\n",
      "Shape of df -> (45264, 6)\n"
     ]
    }
   ],
   "source": [
    "print(f'Shape of df_data -> {df_data.shape}\\nShape of df_stores -> {df_stores.shape}\\nShape of df -> {df.shape}')"
   ]
  },
  {
   "cell_type": "markdown",
   "id": "7a543e74",
   "metadata": {},
   "source": [
    "<b>Для удобного образения к отдельным полям таблицы, переименую названия полей на английский"
   ]
  },
  {
   "cell_type": "code",
   "execution_count": 8,
   "id": "916d4503",
   "metadata": {},
   "outputs": [],
   "source": [
    "df.rename(columns = {'Idчека':'Idcheck', 'Дата':'Date', 'Время':'Time', 'Магазин':'Shop',\n",
    "                      'Город':'City', 'РежимРаботы':'Workingmode'}, inplace = True )"
   ]
  },
  {
   "cell_type": "markdown",
   "id": "98a472a9",
   "metadata": {},
   "source": [
    "<b>Проверим данные на повторения и пропуски (Null значения)"
   ]
  },
  {
   "cell_type": "code",
   "execution_count": 9,
   "id": "d350c261",
   "metadata": {},
   "outputs": [
    {
     "data": {
      "text/plain": [
       "Idcheck        0\n",
       "Date           0\n",
       "Time           0\n",
       "Shop           0\n",
       "City           0\n",
       "Workingmode    0\n",
       "dtype: int64"
      ]
     },
     "execution_count": 9,
     "metadata": {},
     "output_type": "execute_result"
    }
   ],
   "source": [
    "df.isnull().sum()"
   ]
  },
  {
   "cell_type": "code",
   "execution_count": 10,
   "id": "1e7eb82a",
   "metadata": {
    "scrolled": true
   },
   "outputs": [
    {
     "data": {
      "text/plain": [
       "0"
      ]
     },
     "execution_count": 10,
     "metadata": {},
     "output_type": "execute_result"
    }
   ],
   "source": [
    "df.duplicated().sum()"
   ]
  },
  {
   "cell_type": "markdown",
   "id": "7693a8ee",
   "metadata": {},
   "source": [
    "<b>Чтобы проверить зависимость переменных (кореляцию) переведем столбец Time в более удобный для нас формат. Если чек был зарегестрирован в 7:05 то он будет относиться к 7-ому часу"
   ]
  },
  {
   "cell_type": "code",
   "execution_count": 11,
   "id": "0c93ac7d",
   "metadata": {},
   "outputs": [],
   "source": [
    "for i in range(df.shape[0]):\n",
    "    df.Time.iloc[i] = pd.Timestamp(df.Time.iloc[i]).hour"
   ]
  },
  {
   "cell_type": "markdown",
   "id": "957a2aee",
   "metadata": {},
   "source": [
    "<b>Проверим, что весь столбец Time изменил значения"
   ]
  },
  {
   "cell_type": "code",
   "execution_count": 12,
   "id": "4b1411ff",
   "metadata": {},
   "outputs": [
    {
     "data": {
      "text/plain": [
       "array([7, 8, 9, 0, 1, 10, 11, 12, 13, 14, 15, 16, 17, 18, 20, 21, 22, 23,\n",
       "       19, 3, 2, 4, 5, 6], dtype=object)"
      ]
     },
     "execution_count": 12,
     "metadata": {},
     "output_type": "execute_result"
    }
   ],
   "source": [
    "df.Time.unique()"
   ]
  },
  {
   "cell_type": "markdown",
   "id": "4314384e",
   "metadata": {},
   "source": [
    "<b>Сделаем групировку данных, для каждой даты (Date) и для каждого часа (Time) узнаем количество чеков, а так же используем поля Shop, City, Workingmode для более подробной информации"
   ]
  },
  {
   "cell_type": "code",
   "execution_count": 13,
   "id": "70abddfd",
   "metadata": {},
   "outputs": [],
   "source": [
    "df_help = df.groupby(by=['Date', 'Shop', 'City', 'Workingmode', 'Time']).agg({'Idcheck': 'count'})\n",
    "df_help = df_help.reset_index()"
   ]
  },
  {
   "cell_type": "code",
   "execution_count": 14,
   "id": "c1e0f56b",
   "metadata": {
    "scrolled": true
   },
   "outputs": [
    {
     "data": {
      "text/html": [
       "<div>\n",
       "<style scoped>\n",
       "    .dataframe tbody tr th:only-of-type {\n",
       "        vertical-align: middle;\n",
       "    }\n",
       "\n",
       "    .dataframe tbody tr th {\n",
       "        vertical-align: top;\n",
       "    }\n",
       "\n",
       "    .dataframe thead th {\n",
       "        text-align: right;\n",
       "    }\n",
       "</style>\n",
       "<table border=\"1\" class=\"dataframe\">\n",
       "  <thead>\n",
       "    <tr style=\"text-align: right;\">\n",
       "      <th></th>\n",
       "      <th>Date</th>\n",
       "      <th>Shop</th>\n",
       "      <th>City</th>\n",
       "      <th>Workingmode</th>\n",
       "      <th>Time</th>\n",
       "      <th>Idcheck</th>\n",
       "    </tr>\n",
       "  </thead>\n",
       "  <tbody>\n",
       "    <tr>\n",
       "      <th>0</th>\n",
       "      <td>01.02.2016</td>\n",
       "      <td>Магазин 1</td>\n",
       "      <td>Днепропетровск</td>\n",
       "      <td>Круглосуточный</td>\n",
       "      <td>0</td>\n",
       "      <td>2</td>\n",
       "    </tr>\n",
       "    <tr>\n",
       "      <th>1</th>\n",
       "      <td>01.02.2016</td>\n",
       "      <td>Магазин 1</td>\n",
       "      <td>Днепропетровск</td>\n",
       "      <td>Круглосуточный</td>\n",
       "      <td>1</td>\n",
       "      <td>4</td>\n",
       "    </tr>\n",
       "    <tr>\n",
       "      <th>2</th>\n",
       "      <td>01.02.2016</td>\n",
       "      <td>Магазин 1</td>\n",
       "      <td>Днепропетровск</td>\n",
       "      <td>Круглосуточный</td>\n",
       "      <td>2</td>\n",
       "      <td>1</td>\n",
       "    </tr>\n",
       "    <tr>\n",
       "      <th>3</th>\n",
       "      <td>01.02.2016</td>\n",
       "      <td>Магазин 1</td>\n",
       "      <td>Днепропетровск</td>\n",
       "      <td>Круглосуточный</td>\n",
       "      <td>5</td>\n",
       "      <td>3</td>\n",
       "    </tr>\n",
       "    <tr>\n",
       "      <th>4</th>\n",
       "      <td>01.02.2016</td>\n",
       "      <td>Магазин 1</td>\n",
       "      <td>Днепропетровск</td>\n",
       "      <td>Круглосуточный</td>\n",
       "      <td>6</td>\n",
       "      <td>2</td>\n",
       "    </tr>\n",
       "  </tbody>\n",
       "</table>\n",
       "</div>"
      ],
      "text/plain": [
       "         Date       Shop            City     Workingmode  Time  Idcheck\n",
       "0  01.02.2016  Магазин 1  Днепропетровск  Круглосуточный     0        2\n",
       "1  01.02.2016  Магазин 1  Днепропетровск  Круглосуточный     1        4\n",
       "2  01.02.2016  Магазин 1  Днепропетровск  Круглосуточный     2        1\n",
       "3  01.02.2016  Магазин 1  Днепропетровск  Круглосуточный     5        3\n",
       "4  01.02.2016  Магазин 1  Днепропетровск  Круглосуточный     6        2"
      ]
     },
     "execution_count": 14,
     "metadata": {},
     "output_type": "execute_result"
    }
   ],
   "source": [
    "df_help.head()"
   ]
  },
  {
   "cell_type": "markdown",
   "id": "37aa4836",
   "metadata": {},
   "source": [
    "<b>Модели, которые подходят для решения даной задачи, могут работать только с форматом int/float поэтому переведем столбци Shop, Workingmode, City в числовой формат, Магазин 1 -> 1, Магазин 2 -> 2 и т.д"
   ]
  },
  {
   "cell_type": "code",
   "execution_count": 15,
   "id": "07a658f9",
   "metadata": {},
   "outputs": [],
   "source": [
    "dict_shop = {}\n",
    "for i, item in enumerate(df_help.Shop.unique()):\n",
    "    dict_shop[item] = i\n",
    "for i in range(df_help.shape[0]):\n",
    "    df_help.Shop.iloc[i] = int(dict_shop[df_help.Shop.iloc[i]])"
   ]
  },
  {
   "cell_type": "code",
   "execution_count": 16,
   "id": "602a3866",
   "metadata": {},
   "outputs": [],
   "source": [
    "dict_mode = {}\n",
    "for i, item in enumerate(df_help.Workingmode.unique()):\n",
    "    dict_mode[item] = i\n",
    "for i in range(df_help.shape[0]):\n",
    "    df_help.Workingmode.iloc[i] = int(dict_mode[df_help.Workingmode.iloc[i]])"
   ]
  },
  {
   "cell_type": "code",
   "execution_count": 17,
   "id": "62d821c8",
   "metadata": {},
   "outputs": [],
   "source": [
    "dict_city = {}\n",
    "for i, item in enumerate(df_help.City.unique()):\n",
    "    dict_city[item] = i\n",
    "for i in range(df_help.shape[0]):\n",
    "    df_help.City.iloc[i] = int(dict_city[df_help.City.iloc[i]])"
   ]
  },
  {
   "cell_type": "code",
   "execution_count": 18,
   "id": "b456c838",
   "metadata": {},
   "outputs": [
    {
     "data": {
      "text/plain": [
       "<AxesSubplot:>"
      ]
     },
     "execution_count": 18,
     "metadata": {},
     "output_type": "execute_result"
    },
    {
     "data": {
      "image/png": "[encoded data removed]",
      "text/plain": [
       "<Figure size 576x432 with 2 Axes>"
      ]
     },
     "metadata": {},
     "output_type": "display_data"
    }
   ],
   "source": [
    "sns.set(rc={'figure.figsize':(8, 6)})\n",
    "sns.heatmap(df_help.corr(), annot=True)"
   ]
  },
  {
   "cell_type": "markdown",
   "id": "ccc45f05",
   "metadata": {},
   "source": [
    "<b>Переведём все столбци кроме Date в тип category. Date переведём в тип  datetime"
   ]
  },
  {
   "cell_type": "code",
   "execution_count": 19,
   "id": "0174bbcc",
   "metadata": {},
   "outputs": [],
   "source": [
    "df_help.Date = pd.to_datetime(df_help.Date)\n",
    "\n",
    "df_help.Shop = df_help.Shop.astype('category')\n",
    "df_help.City = df_help.City.astype('category')\n",
    "df_help.Workingmode = df_help.Workingmode.astype('category')\n",
    "df_help.Time = df_help.Time.astype('category')"
   ]
  },
  {
   "cell_type": "code",
   "execution_count": 20,
   "id": "ce09e137",
   "metadata": {
    "scrolled": true
   },
   "outputs": [
    {
     "data": {
      "text/plain": [
       "Date           datetime64[ns]\n",
       "Shop                 category\n",
       "City                 category\n",
       "Workingmode          category\n",
       "Time                 category\n",
       "Idcheck                 int64\n",
       "dtype: object"
      ]
     },
     "execution_count": 20,
     "metadata": {},
     "output_type": "execute_result"
    }
   ],
   "source": [
    "df_help.dtypes"
   ]
  },
  {
   "cell_type": "markdown",
   "id": "6dbd69e2",
   "metadata": {},
   "source": [
    "<h2><font style=\"font-weight:lighter\", color='960018'>Создание модели</font></h2>"
   ]
  },
  {
   "cell_type": "markdown",
   "id": "35c0270f",
   "metadata": {},
   "source": [
    "<b>Для решения задач с числовыми рядами используют библиотеку Prophet, но так как количество данных невелико и не нужно учитывать глобальные праздники, было принято решение её не использовать"
   ]
  },
  {
   "cell_type": "code",
   "execution_count": 21,
   "id": "b4427997",
   "metadata": {},
   "outputs": [],
   "source": [
    "X = df_help[['Date', 'Time', 'City', 'Shop', 'Workingmode']]\n",
    "y = df_help['Idcheck']\n",
    "\n",
    "\n",
    "X_train, X_test, y_train, y_test = train_test_split(X, y, test_size=0.25, random_state=0)"
   ]
  },
  {
   "cell_type": "markdown",
   "id": "e5f9f64d",
   "metadata": {},
   "source": [
    "<b>Проверим какие показатели выдают разные модели"
   ]
  },
  {
   "cell_type": "code",
   "execution_count": 22,
   "id": "7c6912e1",
   "metadata": {
    "scrolled": false
   },
   "outputs": [
    {
     "name": "stdout",
     "output_type": "stream",
     "text": [
      "\n",
      " ExtraTreesRegressor()\n",
      "CPU times: user 254 ms, sys: 705 µs, total: 254 ms\n",
      "Wall time: 85.6 ms\n",
      "\n",
      " LinearRegression()\n",
      "CPU times: user 742 µs, sys: 1 µs, total: 743 µs\n",
      "Wall time: 747 µs\n",
      "\n",
      " Ridge()\n",
      "CPU times: user 486 µs, sys: 0 ns, total: 486 µs\n",
      "Wall time: 488 µs\n",
      "\n",
      " DecisionTreeRegressor()\n",
      "CPU times: user 1.36 ms, sys: 0 ns, total: 1.36 ms\n",
      "Wall time: 1.37 ms\n",
      "\n",
      " RandomForestRegressor()\n",
      "CPU times: user 101 ms, sys: 793 µs, total: 101 ms\n",
      "Wall time: 101 ms\n",
      "\n",
      " Lasso()\n",
      "CPU times: user 752 µs, sys: 137 µs, total: 889 µs\n",
      "Wall time: 735 µs\n"
     ]
    }
   ],
   "source": [
    "X_temp = X_test\n",
    "X_train = X_train.drop(['Date'], axis=1)\n",
    "X_test = X_test.drop(['Date'], axis=1)\n",
    "models = [ExtraTreesRegressor(), LinearRegression(), Ridge(), DecisionTreeRegressor(), RandomForestRegressor(), Lasso()]\n",
    "rows = []\n",
    "for clf in models:\n",
    "    clf.fit(X_train, y_train) \n",
    "    print(f'\\n {clf}')\n",
    "    time = %time clf.fit(X_train, y_train) \n",
    "    y_pred = clf.predict(X_test)    \n",
    "    rows.append([clf, round(mean_absolute_percentage_error(y_pred, y_test), 2), round(clf.score(X_test,y_test), 4)])\n",
    "\n",
    "    \n",
    "model_df = pd.DataFrame(rows, columns=['Model name', 'Test MAPE', 'Model test_score'])"
   ]
  },
  {
   "cell_type": "markdown",
   "id": "283ff857",
   "metadata": {},
   "source": [
    "<b>Изучим результаты, для этого был создан датафрейм для удобного просмотра и сравнения результатов"
   ]
  },
  {
   "cell_type": "code",
   "execution_count": 23,
   "id": "203270cf",
   "metadata": {
    "scrolled": true
   },
   "outputs": [
    {
     "data": {
      "text/html": [
       "<div>\n",
       "<style scoped>\n",
       "    .dataframe tbody tr th:only-of-type {\n",
       "        vertical-align: middle;\n",
       "    }\n",
       "\n",
       "    .dataframe tbody tr th {\n",
       "        vertical-align: top;\n",
       "    }\n",
       "\n",
       "    .dataframe thead th {\n",
       "        text-align: right;\n",
       "    }\n",
       "</style>\n",
       "<table border=\"1\" class=\"dataframe\">\n",
       "  <thead>\n",
       "    <tr style=\"text-align: right;\">\n",
       "      <th></th>\n",
       "      <th>Model name</th>\n",
       "      <th>Test MAPE</th>\n",
       "      <th>Model test_score</th>\n",
       "    </tr>\n",
       "  </thead>\n",
       "  <tbody>\n",
       "    <tr>\n",
       "      <th>0</th>\n",
       "      <td>(ExtraTreeRegressor(random_state=1962944919), ...</td>\n",
       "      <td>0.43</td>\n",
       "      <td>0.7397</td>\n",
       "    </tr>\n",
       "    <tr>\n",
       "      <th>1</th>\n",
       "      <td>LinearRegression()</td>\n",
       "      <td>1.32</td>\n",
       "      <td>0.3503</td>\n",
       "    </tr>\n",
       "    <tr>\n",
       "      <th>2</th>\n",
       "      <td>Ridge()</td>\n",
       "      <td>1.30</td>\n",
       "      <td>0.3502</td>\n",
       "    </tr>\n",
       "    <tr>\n",
       "      <th>3</th>\n",
       "      <td>DecisionTreeRegressor()</td>\n",
       "      <td>0.43</td>\n",
       "      <td>0.7397</td>\n",
       "    </tr>\n",
       "    <tr>\n",
       "      <th>4</th>\n",
       "      <td>(DecisionTreeRegressor(max_features=1.0, rando...</td>\n",
       "      <td>0.43</td>\n",
       "      <td>0.7402</td>\n",
       "    </tr>\n",
       "    <tr>\n",
       "      <th>5</th>\n",
       "      <td>Lasso()</td>\n",
       "      <td>0.81</td>\n",
       "      <td>0.2935</td>\n",
       "    </tr>\n",
       "  </tbody>\n",
       "</table>\n",
       "</div>"
      ],
      "text/plain": [
       "                                          Model name  Test MAPE  \\\n",
       "0  (ExtraTreeRegressor(random_state=1962944919), ...       0.43   \n",
       "1                                 LinearRegression()       1.32   \n",
       "2                                            Ridge()       1.30   \n",
       "3                            DecisionTreeRegressor()       0.43   \n",
       "4  (DecisionTreeRegressor(max_features=1.0, rando...       0.43   \n",
       "5                                            Lasso()       0.81   \n",
       "\n",
       "   Model test_score  \n",
       "0            0.7397  \n",
       "1            0.3503  \n",
       "2            0.3502  \n",
       "3            0.7397  \n",
       "4            0.7402  \n",
       "5            0.2935  "
      ]
     },
     "execution_count": 23,
     "metadata": {},
     "output_type": "execute_result"
    }
   ],
   "source": [
    "model_df"
   ]
  },
  {
   "cell_type": "markdown",
   "id": "1f8a5d5b",
   "metadata": {},
   "source": [
    "<b>Лучше всего себя показали модели ExtraTreeRegressor и DecisionTreeRegressor, поэтому было принято решение остановиться на модели DecisionTreeRegressor и попытаться улучшить её с помощью GridSearch"
   ]
  },
  {
   "cell_type": "code",
   "execution_count": 24,
   "id": "32ee05f2",
   "metadata": {},
   "outputs": [
    {
     "name": "stdout",
     "output_type": "stream",
     "text": [
      "Best parameters: DecisionTreeRegressor(max_depth=10, max_leaf_nodes=54, min_samples_split=32)\n"
     ]
    }
   ],
   "source": [
    "parameters = {'max_depth':range(0, 50, 10), \n",
    "              'min_samples_split': range(0, 100, 2),\n",
    "              'max_leaf_nodes':range(0, 100, 2)}\n",
    "\n",
    "model = DecisionTreeRegressor()\n",
    "\n",
    "Best_model= GridSearchCV(model, parameters, cv=5)\n",
    "Best_model.fit(X_train,y_train)\n",
    "\n",
    "print(f'Best parameters: {Best_model.best_estimator_}')"
   ]
  },
  {
   "cell_type": "markdown",
   "id": "9e77d37d",
   "metadata": {},
   "source": [
    "<b>Поексперементировав с параметрами, было обнаружено что max_depth=10, min_samples_split=2, max_leaf_nodes=102 лучше чем выдал GridSearch"
   ]
  },
  {
   "cell_type": "code",
   "execution_count": 25,
   "id": "5b36baa6",
   "metadata": {},
   "outputs": [
    {
     "name": "stdout",
     "output_type": "stream",
     "text": [
      "-----------DecisionTreeRegressor-----------\n",
      "MAPE: 0.41833412970828626\n",
      "Model test_score: 0.7398153757328401\n",
      "\n"
     ]
    }
   ],
   "source": [
    "model = DecisionTreeRegressor(max_depth=10,\n",
    "                           min_samples_split=2,\n",
    "                           max_leaf_nodes=102)\n",
    "model.fit(X_train, y_train) \n",
    "y_pred = model.predict(X_test) \n",
    "print(f'-----------DecisionTreeRegressor-----------\\n'\n",
    "      f'MAPE: {mean_absolute_percentage_error(y_pred.round(), y_test)}\\n'\n",
    "      f'Model test_score: {model.score(X_test, y_test)}\\n')"
   ]
  },
  {
   "cell_type": "markdown",
   "id": "be0a0b05",
   "metadata": {},
   "source": [
    "<b>Попробуем так же для улучшения модели использовать StandardScaler()"
   ]
  },
  {
   "cell_type": "code",
   "execution_count": 26,
   "id": "4751343e",
   "metadata": {
    "scrolled": true
   },
   "outputs": [
    {
     "name": "stdout",
     "output_type": "stream",
     "text": [
      "-----------DecisionTreeRegressor-----------\n",
      "MAPE: 0.41833412970828626\n",
      "Train score: 0.7618086212310373\n",
      "Test score: 0.7398153757328401\n",
      "\n"
     ]
    }
   ],
   "source": [
    "pipeline = make_pipeline(StandardScaler(), model)\n",
    "pipeline.fit(X_train, y_train)\n",
    "pipeline.score(X_test, y_test)\n",
    "\n",
    "y_pred = pipeline.predict(X_test) \n",
    "print(f'-----------DecisionTreeRegressor-----------\\n'\n",
    "      f'MAPE: {mean_absolute_percentage_error(y_pred.round(), y_test)}\\n'\n",
    "      f'Train score: {pipeline.score(X_train, y_train)}\\n'\n",
    "      f'Test score: {pipeline.score(X_test, y_test)}\\n')"
   ]
  },
  {
   "cell_type": "markdown",
   "id": "4d18dc19",
   "metadata": {},
   "source": [
    "<b>Наша модель была создана с целью предсказывать, нужны ли будут дополнительные сотрудники или нет, поэтому расчитаем вероятность когда \"сотрудники в помощь\" нужны и модель это предсказала"
   ]
  },
  {
   "cell_type": "code",
   "execution_count": 27,
   "id": "7c617201",
   "metadata": {},
   "outputs": [],
   "source": [
    "counter = 0\n",
    "for i in range(len(y_pred)):\n",
    "    if ((y_pred[i] > 20) and (y_test.iloc[i] > 20) or (y_pred[i] < 20) and (y_test.iloc[i] < 20)):\n",
    "        counter += 1"
   ]
  },
  {
   "cell_type": "code",
   "execution_count": 28,
   "id": "8f080913",
   "metadata": {},
   "outputs": [
    {
     "data": {
      "text/plain": [
       "89.0"
      ]
     },
     "execution_count": 28,
     "metadata": {},
     "output_type": "execute_result"
    }
   ],
   "source": [
    "round(counter / len(y_pred), 2) * 100"
   ]
  },
  {
   "cell_type": "markdown",
   "id": "e1670e84",
   "metadata": {},
   "source": [
    "<b>Сохраним нашу модель, для удобного использования"
   ]
  },
  {
   "cell_type": "code",
   "execution_count": 29,
   "id": "52f1676a",
   "metadata": {},
   "outputs": [],
   "source": [
    "import pickle\n",
    "\n",
    "with open('finally_model', 'wb') as f:\n",
    "    pickle.dump(pipeline, f)"
   ]
  },
  {
   "cell_type": "markdown",
   "id": "90e2265c",
   "metadata": {},
   "source": [
    "<b> С помощью графика продемонстрируем разность между предсказными и действительными значениями \n",
    "    <li> Синее -> действительные значения \n",
    "    <li> Оранжевое -> предсказаные\n",
    "    "
   ]
  },
  {
   "cell_type": "code",
   "execution_count": 30,
   "id": "3af59834",
   "metadata": {
    "scrolled": false
   },
   "outputs": [
    {
     "data": {
      "image/png": "[encoded data removed]",
      "text/plain": [
       "<Figure size 1440x432 with 1 Axes>"
      ]
     },
     "metadata": {},
     "output_type": "display_data"
    }
   ],
   "source": [
    "x = np.array(X_temp.Date.astype(str))[:30]\n",
    "y1 = np.array(y_pred)[:30]\n",
    "y2 = np.array(y_test)[:30]\n",
    "\n",
    "fig, ax = plt.subplots()\n",
    "\n",
    "ax.bar(x, y1)\n",
    "ax.bar(x, y2)\n",
    "\n",
    "ax.set_facecolor('seashell')\n",
    "fig.set_figwidth(20)    #  ширина Figure\n",
    "fig.set_figheight(6)    #  высота Figure\n",
    "fig.set_facecolor('floralwhite')\n",
    "plt.xticks(rotation=90)\n",
    "\n",
    "plt.show()"
   ]
  },
  {
   "cell_type": "markdown",
   "id": "ce3b4a02",
   "metadata": {},
   "source": [
    "<b>Создадим таблицу с результатами и сохраним её"
   ]
  },
  {
   "cell_type": "code",
   "execution_count": 31,
   "id": "0f17d807",
   "metadata": {},
   "outputs": [],
   "source": [
    "Save_df = pd.DataFrame({'Date': np.array(X_temp.Date),'Predicted': y_pred.round().astype(int), 'Facted': np.array(y_test)})"
   ]
  },
  {
   "cell_type": "code",
   "execution_count": 32,
   "id": "daab517c",
   "metadata": {},
   "outputs": [
    {
     "data": {
      "text/html": [
       "<div>\n",
       "<style scoped>\n",
       "    .dataframe tbody tr th:only-of-type {\n",
       "        vertical-align: middle;\n",
       "    }\n",
       "\n",
       "    .dataframe tbody tr th {\n",
       "        vertical-align: top;\n",
       "    }\n",
       "\n",
       "    .dataframe thead th {\n",
       "        text-align: right;\n",
       "    }\n",
       "</style>\n",
       "<table border=\"1\" class=\"dataframe\">\n",
       "  <thead>\n",
       "    <tr style=\"text-align: right;\">\n",
       "      <th></th>\n",
       "      <th>Date</th>\n",
       "      <th>Predicted</th>\n",
       "      <th>Facted</th>\n",
       "    </tr>\n",
       "  </thead>\n",
       "  <tbody>\n",
       "    <tr>\n",
       "      <th>0</th>\n",
       "      <td>2016-03-02</td>\n",
       "      <td>4</td>\n",
       "      <td>4</td>\n",
       "    </tr>\n",
       "    <tr>\n",
       "      <th>1</th>\n",
       "      <td>2016-01-18</td>\n",
       "      <td>4</td>\n",
       "      <td>2</td>\n",
       "    </tr>\n",
       "    <tr>\n",
       "      <th>2</th>\n",
       "      <td>2016-04-02</td>\n",
       "      <td>19</td>\n",
       "      <td>19</td>\n",
       "    </tr>\n",
       "    <tr>\n",
       "      <th>3</th>\n",
       "      <td>2016-01-20</td>\n",
       "      <td>16</td>\n",
       "      <td>7</td>\n",
       "    </tr>\n",
       "    <tr>\n",
       "      <th>4</th>\n",
       "      <td>2016-02-13</td>\n",
       "      <td>28</td>\n",
       "      <td>26</td>\n",
       "    </tr>\n",
       "  </tbody>\n",
       "</table>\n",
       "</div>"
      ],
      "text/plain": [
       "        Date  Predicted  Facted\n",
       "0 2016-03-02          4       4\n",
       "1 2016-01-18          4       2\n",
       "2 2016-04-02         19      19\n",
       "3 2016-01-20         16       7\n",
       "4 2016-02-13         28      26"
      ]
     },
     "execution_count": 32,
     "metadata": {},
     "output_type": "execute_result"
    }
   ],
   "source": [
    "Save_df.head()"
   ]
  },
  {
   "cell_type": "code",
   "execution_count": 33,
   "id": "b912b5f4",
   "metadata": {},
   "outputs": [],
   "source": [
    "Save_df.to_csv('Saved_Result.csv', sep=';')"
   ]
  }
 ],
 "metadata": {
  "kernelspec": {
   "display_name": "Python 3 (ipykernel)",
   "language": "python",
   "name": "python3"
  },
  "language_info": {
   "codemirror_mode": {
    "name": "ipython",
    "version": 3
   },
   "file_extension": ".py",
   "mimetype": "text/x-python",
   "name": "python",
   "nbconvert_exporter": "python",
   "pygments_lexer": "ipython3",
   "version": "3.10.4"
  }
 },
 "nbformat": 4,
 "nbformat_minor": 5
}
